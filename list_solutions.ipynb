{
 "cells": [
  {
   "cell_type": "code",
   "execution_count": 1,
   "id": "7b1b5c69",
   "metadata": {},
   "outputs": [
    {
     "name": "stdout",
     "output_type": "stream",
     "text": [
      "[2, 4, 6]\n",
      "[]\n"
     ]
    }
   ],
   "source": [
    "# List Operations\n",
    "def filter_even_numbers(numbers):\n",
    "    return [num for num in numbers if num % 2 == 0]\n",
    "# Example usage:\n",
    "print(filter_even_numbers([1, 2, 3, 4, 5, 6]))  # Should return [2, 4, 6]\n",
    "print(filter_even_numbers([1, 3, 5]))  # Should return []"
   ]
  },
  {
   "cell_type": "code",
   "execution_count": 2,
   "id": "67c249a3",
   "metadata": {},
   "outputs": [
    {
     "name": "stdout",
     "output_type": "stream",
     "text": [
      "[1, 2, 3, 4, 5, 6]\n",
      "[1, 2, 3]\n",
      "[4, 5, 6]\n"
     ]
    }
   ],
   "source": [
    "\n",
    "# List Manipulation\n",
    "def merge_sorted_lists(list1, list2):\n",
    "    merged = []\n",
    "    i, j = 0, 0\n",
    "    while i < len(list1) and j < len(list2):\n",
    "        if list1[i] <= list2[j]:\n",
    "            merged.append(list1[i])\n",
    "            i += 1\n",
    "        else:\n",
    "            merged.append(list2[j])\n",
    "            j += 1\n",
    "    merged.extend(list1[i:])\n",
    "    merged.extend(list2[j:])\n",
    "    return merged\n",
    "\n",
    "# Example usage:\n",
    "print(merge_sorted_lists([1, 3, 5], [2, 4, 6]))  # Should return [1, 2, 3, 4, 5, 6]\n",
    "print(merge_sorted_lists([1, 2, 3], []))         # Should return [1, 2, 3]\n",
    "print(merge_sorted_lists([], [4, 5, 6]))         # Should return [4, 5, 6]\n"
   ]
  },
  {
   "cell_type": "code",
   "execution_count": 3,
   "id": "fe6d6b4e",
   "metadata": {},
   "outputs": [
    {
     "name": "stdout",
     "output_type": "stream",
     "text": [
      "[[0, 0, 0], [0, 1, 2], [0, 2, 4]]\n",
      "[[0, 0], [0, 1]]\n"
     ]
    }
   ],
   "source": [
    "# List Comprehensions\n",
    "\n",
    "def generate_matrix(n, m):\n",
    "    return [[i * j for j in range(m)] for i in range(n)]\n",
    "\n",
    "# Example usage:\n",
    "print(generate_matrix(3, 3))  # Should return [[0, 0, 0], [0, 1, 2], [0, 2, 4]]\n",
    "print(generate_matrix(2, 2))  # Should return [[0, 0], [0, 1]]"
   ]
  },
  {
   "cell_type": "code",
   "execution_count": 4,
   "id": "b757ed02",
   "metadata": {},
   "outputs": [
    {
     "name": "stdout",
     "output_type": "stream",
     "text": [
      "[[1, 4], [2, 5], [3, 6]]\n"
     ]
    }
   ],
   "source": [
    "\n",
    "# Nested Lists\n",
    "def transpose_matrix(matrix):\n",
    "    return [list(row) for row in zip(*matrix)]\n",
    "\n",
    "# Example usage:\n",
    "matrix = [\n",
    "    [1, 2, 3],\n",
    "    [4, 5, 6]\n",
    "]\n",
    "print(transpose_matrix(matrix))  # Should return [[1, 4], [2, 5], [3, 6]]"
   ]
  }
 ],
 "metadata": {
  "kernelspec": {
   "display_name": "Python 3",
   "language": "python",
   "name": "python3"
  },
  "language_info": {
   "codemirror_mode": {
    "name": "ipython",
    "version": 3
   },
   "file_extension": ".py",
   "mimetype": "text/x-python",
   "name": "python",
   "nbconvert_exporter": "python",
   "pygments_lexer": "ipython3",
   "version": "3.11.4"
  }
 },
 "nbformat": 4,
 "nbformat_minor": 5
}
